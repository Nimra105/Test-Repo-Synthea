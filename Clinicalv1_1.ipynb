{
  "nbformat": 4,
  "nbformat_minor": 0,
  "metadata": {
    "colab": {
      "provenance": [],
      "machine_shape": "hm",
      "gpuType": "A100",
      "authorship_tag": "ABX9TyNCpKiA1zJBeRuzeAcEgKlS"
    },
    "kernelspec": {
      "name": "python3",
      "display_name": "Python 3"
    },
    "language_info": {
      "name": "python"
    },
    "accelerator": "GPU"
  },
  "cells": [
    {
      "cell_type": "code",
      "source": [
        "%%bash\n",
        "# 0️⃣ Install virtualenv (only ~6 s)\n",
        "python -m pip install --quiet virtualenv\n",
        "\n",
        "# 1️⃣ Create the env — virtualenv bundles its own pip+setuptools, so no ensurepip needed\n",
        "python -m virtualenv /content/fhir_env\n",
        "\n",
        "# 2️⃣ Activate it for this *shell* and upgrade pip\n",
        "source /content/fhir_env/bin/activate\n",
        "pip install --quiet --upgrade pip\n",
        "\n",
        "echo \"✅ Virtualenv ready at /content/fhir_env\""
      ],
      "metadata": {
        "colab": {
          "base_uri": "https://localhost:8080/"
        },
        "id": "KPC-KKdgx706",
        "outputId": "5735ecb6-a995-4fb7-9037-64660b3208ff"
      },
      "execution_count": 1,
      "outputs": [
        {
          "output_type": "stream",
          "name": "stdout",
          "text": [
            "   ━━━━━━━━━━━━━━━━━━━━━━━━━━━━━━━━━━━━━━━━ 6.1/6.1 MB 50.7 MB/s eta 0:00:00\n",
            "   ━━━━━━━━━━━━━━━━━━━━━━━━━━━━━━━━━━━━━━━━ 469.0/469.0 kB 31.9 MB/s eta 0:00:00\n",
            "created virtual environment CPython3.11.13.final.0-64 in 339ms\n",
            "  creator CPython3Posix(dest=/content/fhir_env, clear=False, no_vcs_ignore=False, global=False)\n",
            "  seeder FromAppData(download=False, pip=bundle, setuptools=bundle, via=copy, app_data_dir=/root/.local/share/virtualenv)\n",
            "    added seed packages: pip==25.1.1, setuptools==80.3.1\n",
            "  activators BashActivator,CShellActivator,FishActivator,NushellActivator,PowerShellActivator,PythonActivator\n",
            "✅ Virtualenv ready at /content/fhir_env\n"
          ]
        }
      ]
    },
    {
      "cell_type": "code",
      "source": [
        "%%bash\n",
        "source /content/fhir_env/bin/activate\n",
        "\n",
        "# 1️⃣ Core numeric stack\n",
        "pip install --quiet numpy==2.0.0 \\\n",
        "                       --extra-index-url https://download.pytorch.org/whl/cu121 \\\n",
        "                       torch==2.3.0 torchvision==0.18.0\n",
        "\n",
        "# 2️⃣ Clinical‑assistant libraries\n",
        "pip install --quiet faiss-cpu==1.8.0 \\\n",
        "                   fhir.resources==7.1.0 \\\n",
        "                   sentence-transformers==2.7.0 \\\n",
        "                   transformers==4.43.2 \\\n",
        "                   accelerate==0.30.1 \\\n",
        "                   bitsandbytes==0.43.0 \\\n",
        "                   langchain==0.2.0 langchain-community==0.2.0"
      ],
      "metadata": {
        "colab": {
          "base_uri": "https://localhost:8080/"
        },
        "id": "Wui99qYr4hKh",
        "outputId": "559baecb-2748-42d0-c27b-c65d84712311"
      },
      "execution_count": 2,
      "outputs": [
        {
          "output_type": "stream",
          "name": "stdout",
          "text": [
            "     ━━━━━━━━━━━━━━━━━━━━━━━━━━━━━━━━━━━━━━ 781.0/781.0 MB 36.2 MB/s eta 0:00:00\n",
            "     ━━━━━━━━━━━━━━━━━━━━━━━━━━━━━━━━━━━━━━━━ 7.0/7.0 MB 147.4 MB/s eta 0:00:00\n",
            "     ━━━━━━━━━━━━━━━━━━━━━━━━━━━━━━━━━━━━━━━ 23.7/23.7 MB 192.0 MB/s eta 0:00:00\n",
            "     ━━━━━━━━━━━━━━━━━━━━━━━━━━━━━━━━━━━━━━ 823.6/823.6 kB 42.9 MB/s eta 0:00:00\n",
            "     ━━━━━━━━━━━━━━━━━━━━━━━━━━━━━━━━━━━━━━━ 14.1/14.1 MB 178.4 MB/s eta 0:00:00\n",
            "     ━━━━━━━━━━━━━━━━━━━━━━━━━━━━━━━━━━━━━━ 731.7/731.7 MB 36.3 MB/s eta 0:00:00\n",
            "     ━━━━━━━━━━━━━━━━━━━━━━━━━━━━━━━━━━━━━━ 410.6/410.6 MB 57.5 MB/s eta 0:00:00\n",
            "     ━━━━━━━━━━━━━━━━━━━━━━━━━━━━━━━━━━━━━ 121.6/121.6 MB 151.5 MB/s eta 0:00:00\n",
            "     ━━━━━━━━━━━━━━━━━━━━━━━━━━━━━━━━━━━━━━━ 56.5/56.5 MB 152.6 MB/s eta 0:00:00\n",
            "     ━━━━━━━━━━━━━━━━━━━━━━━━━━━━━━━━━━━━━ 124.2/124.2 MB 155.1 MB/s eta 0:00:00\n",
            "     ━━━━━━━━━━━━━━━━━━━━━━━━━━━━━━━━━━━━━━ 196.0/196.0 MB 72.1 MB/s eta 0:00:00\n",
            "     ━━━━━━━━━━━━━━━━━━━━━━━━━━━━━━━━━━━━━ 176.2/176.2 MB 146.1 MB/s eta 0:00:00\n",
            "     ━━━━━━━━━━━━━━━━━━━━━━━━━━━━━━━━━━━━━━ 168.1/168.1 MB 78.7 MB/s eta 0:00:00\n",
            "     ━━━━━━━━━━━━━━━━━━━━━━━━━━━━━━━━━━━━━━ 536.2/536.2 kB 23.6 MB/s eta 0:00:00\n",
            "   ━━━━━━━━━━━━━━━━━━━━━━━━━━━━━━━━━━━━━━━━ 19.3/19.3 MB 147.7 MB/s eta 0:00:00\n",
            "   ━━━━━━━━━━━━━━━━━━━━━━━━━━━━━━━━━━━━━━━━ 6.6/6.6 MB 129.0 MB/s eta 0:00:00\n",
            "   ━━━━━━━━━━━━━━━━━━━━━━━━━━━━━━━━━━━━━━━━ 2.0/2.0 MB 93.9 MB/s eta 0:00:00\n",
            "   ━━━━━━━━━━━━━━━━━━━━━━━━━━━━━━━━━━━━━━━━ 39.7/39.7 MB 166.8 MB/s eta 0:00:00\n",
            "   ━━━━━━━━━━━━━━━━━━━━━━━━━━━━━━━━━━━━━━━━ 6.3/6.3 MB 149.4 MB/s eta 0:00:00\n",
            "\n",
            "   ━━━━━━━━━━━━━━━━━━━━━━━━━━━━━━━━━━━━━━━━ 27.0/27.0 MB 141.3 MB/s eta 0:00:00\n",
            "   ━━━━━━━━━━━━━━━━━━━━━━━━━━━━━━━━━━━━━━━━ 3.1/3.1 MB 91.8 MB/s eta 0:00:00\n",
            "   ━━━━━━━━━━━━━━━━━━━━━━━━━━━━━━━━━━━━━━━━ 9.4/9.4 MB 135.8 MB/s eta 0:00:00\n",
            "   ━━━━━━━━━━━━━━━━━━━━━━━━━━━━━━━━━━━━━━━ 102.2/102.2 MB 113.9 MB/s eta 0:00:00\n",
            "   ━━━━━━━━━━━━━━━━━━━━━━━━━━━━━━━━━━━━━━━━ 973.7/973.7 kB 49.9 MB/s eta 0:00:00\n",
            "   ━━━━━━━━━━━━━━━━━━━━━━━━━━━━━━━━━━━━━━━━ 2.1/2.1 MB 86.0 MB/s eta 0:00:00\n",
            "   ━━━━━━━━━━━━━━━━━━━━━━━━━━━━━━━━━━━━━━━━ 1.7/1.7 MB 90.6 MB/s eta 0:00:00\n",
            "   ━━━━━━━━━━━━━━━━━━━━━━━━━━━━━━━━━━━━━━━━ 3.1/3.1 MB 70.7 MB/s eta 0:00:00\n",
            "   ━━━━━━━━━━━━━━━━━━━━━━━━━━━━━━━━━━━━━━━━ 18.3/18.3 MB 196.1 MB/s eta 0:00:00\n",
            "   ━━━━━━━━━━━━━━━━━━━━━━━━━━━━━━━━━━━━━━━━ 2.0/2.0 MB 98.7 MB/s eta 0:00:00\n",
            "   ━━━━━━━━━━━━━━━━━━━━━━━━━━━━━━━━━━━━━━━━ 3.3/3.3 MB 100.7 MB/s eta 0:00:00\n",
            "   ━━━━━━━━━━━━━━━━━━━━━━━━━━━━━━━━━━━━━━━━ 3.6/3.6 MB 123.6 MB/s eta 0:00:00\n",
            "   ━━━━━━━━━━━━━━━━━━━━━━━━━━━━━━━━━━━━━━━━ 585.5/585.5 kB 29.5 MB/s eta 0:00:00\n",
            "   ━━━━━━━━━━━━━━━━━━━━━━━━━━━━━━━━━━━━━━━━ 763.0/763.0 kB 37.4 MB/s eta 0:00:00\n",
            "   ━━━━━━━━━━━━━━━━━━━━━━━━━━━━━━━━━━━━━━━━ 792.7/792.7 kB 42.6 MB/s eta 0:00:00\n",
            "   ━━━━━━━━━━━━━━━━━━━━━━━━━━━━━━━━━━━━━━━━ 12.9/12.9 MB 192.7 MB/s eta 0:00:00\n",
            "   ━━━━━━━━━━━━━━━━━━━━━━━━━━━━━━━━━━━━━━━━ 35.3/35.3 MB 178.5 MB/s eta 0:00:00\n",
            "\n"
          ]
        }
      ]
    },
    {
      "cell_type": "code",
      "source": [
        "%%bash\n",
        "source /content/fhir_env/bin/activate\n",
        "\n",
        "# ── 1. System‑level build prerequisites ─────────────────────────────────────\n",
        "sudo apt-get update -qq\n",
        "sudo apt-get install -y swig python3-dev\n",
        "sudo apt-get install -y --no-install-recommends \\\n",
        "     build-essential cmake git libopenblas-dev libomp-dev\n",
        "\n",
        "# ── 2. Fresh clone of Faiss v1.7.4 ──────────────────────────────────────────\n",
        "rm -rf faiss\n",
        "git clone --branch v1.7.4 https://github.com/facebookresearch/faiss.git\n",
        "cd faiss\n",
        "\n",
        "# ── 3. Configure + build (GPU, Python bindings) ─────────────────────────────\n",
        "cmake -B build -DFAISS_ENABLE_GPU=ON \\\n",
        "               -DFAISS_ENABLE_PYTHON=ON \\\n",
        "               -DFAISS_ENABLE_C_API=OFF \\\n",
        "               -DCMAKE_BUILD_TYPE=Release \\\n",
        "               -DPython_EXECUTABLE=$(which python)\n",
        "cmake --build build --target faiss faiss_avx2 swigfaiss -j $(nproc)\n",
        "\n",
        "# ── 4. Create and install a CPython‑3.11 wheel ──────────────────────────────\n",
        "cd build/faiss/python\n",
        "pip install --quiet setuptools wheel          # ensure wheel tools are present\n",
        "python setup.py bdist_wheel                   # builds dist/faiss_gpu‑1.7.4‑cp311‑*.whl\n",
        "pip install dist/faiss_gpu-1.7.4-cp311-*.whl  # install the freshly built wheel"
      ],
      "metadata": {
        "id": "EFtnOY5Q7XvT"
      },
      "execution_count": null,
      "outputs": []
    },
    {
      "cell_type": "code",
      "source": [
        "import faiss, torch\n",
        "print(\"Faiss:\", faiss.__version__, \"| GPUs:\", faiss.get_num_gpus())"
      ],
      "metadata": {
        "id": "IQskHAzOCrOT"
      },
      "execution_count": null,
      "outputs": []
    },
    {
      "cell_type": "code",
      "source": [
        "import site, sys, pathlib, importlib\n",
        "VENV = \"/content/fhir_env\"\n",
        "site_packages = next(pathlib.Path(VENV).rglob(\"site-packages\"))\n",
        "if str(site_packages) not in sys.path:\n",
        "    sys.path.insert(0, str(site_packages))\n",
        "\n",
        "# quick sanity‑check\n",
        "import numpy, torch, faiss, transformers\n",
        "print(\"NumPy :\", numpy.__version__)\n",
        "print(\"Torch :\", torch.__version__)\n",
        "print(\"FAISS :\", faiss.__version__)\n",
        "print(\"tfms  :\", transformers.__version__)"
      ],
      "metadata": {
        "id": "fZ5lf1wb4mc9"
      },
      "execution_count": null,
      "outputs": []
    },
    {
      "cell_type": "code",
      "execution_count": null,
      "metadata": {
        "colab": {
          "base_uri": "https://localhost:8080/",
          "height": 1000
        },
        "id": "9P8s6_TLjyY5",
        "outputId": "1776a082-adfa-40e1-fe03-a464446eb5a9"
      },
      "outputs": [
        {
          "output_type": "stream",
          "name": "stdout",
          "text": [
            "\u001b[33mWARNING: Skipping faiss-cpu as it is not installed.\u001b[0m\u001b[33m\n",
            "\u001b[2K     \u001b[90m━━━━━━━━━━━━━━━━━━━━━━━━━━━━━━━━━━━━━━━\u001b[0m \u001b[32m60.9/60.9 kB\u001b[0m \u001b[31m146.5 MB/s\u001b[0m eta \u001b[36m0:00:00\u001b[0m\n",
            "\u001b[2K   \u001b[90m━━━━━━━━━━━━━━━━━━━━━━━━━━━━━━━━━━━━━━━━\u001b[0m \u001b[32m19.3/19.3 MB\u001b[0m \u001b[31m311.3 MB/s\u001b[0m eta \u001b[36m0:00:00\u001b[0m\n",
            "\u001b[?25h\u001b[31mERROR: pip's dependency resolver does not currently take into account all the packages that are installed. This behaviour is the source of the following dependency conflicts.\n",
            "shap 0.48.0 requires numba>=0.54, which is not installed.\n",
            "tensorflow-decision-forests 1.11.0 requires tensorflow==2.18.0, which is not installed.\n",
            "pynndescent 0.5.13 requires numba>=0.51.2, which is not installed.\n",
            "umap-learn 0.5.9.post2 requires numba>=0.51.2, which is not installed.\n",
            "cudf-cu12 25.2.1 requires numba<0.61.0a0,>=0.59.1, which is not installed.\n",
            "stumpy 1.13.0 requires numba>=0.57.1, which is not installed.\n",
            "librosa 0.11.0 requires numba>=0.51.0, which is not installed.\n",
            "cuml-cu12 25.2.1 requires numba<0.61.0a0,>=0.59.1, which is not installed.\n",
            "spacy 3.8.7 requires thinc<8.4.0,>=8.3.4, which is not installed.\n",
            "dask-cuda 25.2.0 requires numba<0.61.0a0,>=0.59.1, which is not installed.\n",
            "dopamine-rl 4.1.2 requires tensorflow>=2.2.0, which is not installed.\n",
            "albucore 0.0.24 requires opencv-python-headless>=4.9.0.80, which is not installed.\n",
            "albumentations 2.0.8 requires opencv-python-headless>=4.9.0.80, which is not installed.\u001b[0m\u001b[31m\n",
            "\u001b[2K   \u001b[90m━━━━━━━━━━━━━━━━━━━━━━━━━━━━━━━━━━━━━━━━\u001b[0m \u001b[32m3.7/3.7 MB\u001b[0m \u001b[31m194.4 MB/s\u001b[0m eta \u001b[36m0:00:00\u001b[0m\n",
            "\u001b[2K   \u001b[90m━━━━━━━━━━━━━━━━━━━━━━━━━━━━━━━━━━━━━━━\u001b[0m \u001b[32m615.4/615.4 MB\u001b[0m \u001b[31m157.2 MB/s\u001b[0m eta \u001b[36m0:00:00\u001b[0m\n",
            "\u001b[2K     \u001b[90m━━━━━━━━━━━━━━━━━━━━━━━━━━━━━━━━━━━━━━━\u001b[0m \u001b[32m45.3/45.3 kB\u001b[0m \u001b[31m184.7 MB/s\u001b[0m eta \u001b[36m0:00:00\u001b[0m\n",
            "\u001b[2K     \u001b[90m━━━━━━━━━━━━━━━━━━━━━━━━━━━━━━━━━━━━━━━\u001b[0m \u001b[32m43.7/43.7 kB\u001b[0m \u001b[31m230.5 MB/s\u001b[0m eta \u001b[36m0:00:00\u001b[0m\n",
            "\u001b[?25h\u001b[31mERROR: Cannot install accelerate==0.30.1, bitsandbytes==0.43.0, langchain==0.2.0, opencv-python-headless==4.12.0.88, sentence-transformers==2.7.0, thinc==8.3.6 and transformers==4.43.2 because these package versions have conflicting dependencies.\u001b[0m\u001b[31m\n",
            "\u001b[0m\u001b[31mERROR: ResolutionImpossible: for help visit https://pip.pypa.io/en/latest/topics/dependency-resolution/#dealing-with-dependency-conflicts\u001b[0m\u001b[31m\n",
            "\u001b[2K     \u001b[90m━━━━━━━━━━━━━━━━━━━━━━━━━━━━━━━━━━━━━━━\u001b[0m \u001b[32m63.6/63.6 kB\u001b[0m \u001b[31m137.0 MB/s\u001b[0m eta \u001b[36m0:00:00\u001b[0m\n",
            "\u001b[?25h  Installing build dependencies ... \u001b[?25l\u001b[?25hdone\n",
            "  Getting requirements to build wheel ... \u001b[?25l\u001b[?25hdone\n",
            "  Preparing metadata (pyproject.toml) ... \u001b[?25l\u001b[?25hdone\n",
            "  \u001b[1;31merror\u001b[0m: \u001b[1msubprocess-exited-with-error\u001b[0m\n",
            "  \n",
            "  \u001b[31m×\u001b[0m \u001b[32mBuilding wheel for faiss-cpu \u001b[0m\u001b[1;32m(\u001b[0m\u001b[32mpyproject.toml\u001b[0m\u001b[1;32m)\u001b[0m did not run successfully.\n",
            "  \u001b[31m│\u001b[0m exit code: \u001b[1;36m1\u001b[0m\n",
            "  \u001b[31m╰─>\u001b[0m See above for output.\n",
            "  \n",
            "  \u001b[1;35mnote\u001b[0m: This error originates from a subprocess, and is likely not a problem with pip.\n",
            "  Building wheel for faiss-cpu (pyproject.toml) ... \u001b[?25l\u001b[?25herror\n",
            "\u001b[31m  ERROR: Failed building wheel for faiss-cpu\u001b[0m\u001b[31m\n",
            "\u001b[0m\u001b[31mERROR: ERROR: Failed to build installable wheels for some pyproject.toml based projects (faiss-cpu)\u001b[0m\u001b[31m\n",
            "\u001b[0mnumpy 2.0.2\n"
          ]
        },
        {
          "output_type": "error",
          "ename": "AttributeError",
          "evalue": "module 'cv2' has no attribute '__version__'",
          "traceback": [
            "\u001b[0;31m---------------------------------------------------------------------------\u001b[0m",
            "\u001b[0;31mAttributeError\u001b[0m                            Traceback (most recent call last)",
            "\u001b[0;32m/tmp/ipython-input-2-1365307328.py\u001b[0m in \u001b[0;36m<cell line: 0>\u001b[0;34m()\u001b[0m\n\u001b[1;32m     37\u001b[0m \u001b[0;32mfor\u001b[0m \u001b[0mm\u001b[0m \u001b[0;32min\u001b[0m \u001b[0;34m(\u001b[0m\u001b[0;34m\"numpy\"\u001b[0m\u001b[0;34m,\u001b[0m\u001b[0;34m\"cv2\"\u001b[0m\u001b[0;34m,\u001b[0m\u001b[0;34m\"thinc\"\u001b[0m\u001b[0;34m,\u001b[0m\u001b[0;34m\"faiss\"\u001b[0m\u001b[0;34m)\u001b[0m\u001b[0;34m:\u001b[0m\u001b[0;34m\u001b[0m\u001b[0;34m\u001b[0m\u001b[0m\n\u001b[1;32m     38\u001b[0m     \u001b[0mmod\u001b[0m \u001b[0;34m=\u001b[0m \u001b[0mimportlib\u001b[0m\u001b[0;34m.\u001b[0m\u001b[0mimport_module\u001b[0m\u001b[0;34m(\u001b[0m\u001b[0mm\u001b[0m\u001b[0;34m)\u001b[0m\u001b[0;34m\u001b[0m\u001b[0;34m\u001b[0m\u001b[0m\n\u001b[0;32m---> 39\u001b[0;31m     \u001b[0mprint\u001b[0m\u001b[0;34m(\u001b[0m\u001b[0;34mf\"{m:5s}\"\u001b[0m\u001b[0;34m,\u001b[0m \u001b[0mmod\u001b[0m\u001b[0;34m.\u001b[0m\u001b[0m__version__\u001b[0m\u001b[0;34m)\u001b[0m\u001b[0;34m\u001b[0m\u001b[0;34m\u001b[0m\u001b[0m\n\u001b[0m\u001b[1;32m     40\u001b[0m \u001b[0msubprocess\u001b[0m\u001b[0;34m.\u001b[0m\u001b[0mrun\u001b[0m\u001b[0;34m(\u001b[0m\u001b[0;34m[\u001b[0m\u001b[0msys\u001b[0m\u001b[0;34m.\u001b[0m\u001b[0mexecutable\u001b[0m\u001b[0;34m,\u001b[0m\u001b[0;34m\"-m\"\u001b[0m\u001b[0;34m,\u001b[0m\u001b[0;34m\"pip\"\u001b[0m\u001b[0;34m,\u001b[0m\u001b[0;34m\"check\"\u001b[0m\u001b[0;34m]\u001b[0m\u001b[0;34m,\u001b[0m \u001b[0mcheck\u001b[0m\u001b[0;34m=\u001b[0m\u001b[0;32mFalse\u001b[0m\u001b[0;34m)\u001b[0m\u001b[0;34m\u001b[0m\u001b[0;34m\u001b[0m\u001b[0m\n",
            "\u001b[0;31mAttributeError\u001b[0m: module 'cv2' has no attribute '__version__'"
          ]
        }
      ],
      "source": [
        "##############################################################################\n",
        "# 0.  SCRUB THE OLD ENVIRONMENT COMPLETELY\n",
        "##############################################################################\n",
        "!pip uninstall -y -q numpy opencv-python-headless thinc numba tensorflow faiss-cpu || true\n",
        "\n",
        "##############################################################################\n",
        "# 1.  INSTALL A SINGLE, COMPATIBLE NUMPY WHEEL\n",
        "#     NumPy 2.0.x is               >=2  and <2.1   → ok for:\n",
        "#       • opencv‑python‑headless (>=2,<3)\n",
        "#       • thinc (>=2,<3)\n",
        "#       • tensorflow 2.18 (>=1.26,<2.1)\n",
        "#       • numba 0.60      (>=1.22,<2.1)\n",
        "##############################################################################\n",
        "!pip install --quiet --no-cache-dir \"numpy==2.0.0\"\n",
        "\n",
        "##############################################################################\n",
        "# 2A. OPTIONAL: KEEP TensorFlow & Numba (if you really need them later)\n",
        "# Comment‑out the next two lines if you don’t need either package.\n",
        "##############################################################################\n",
        "!pip install --quiet --no-cache-dir numba==0.60.0 tensorflow==2.18.0\n",
        "\n",
        "##############################################################################\n",
        "# 2B.  INSTALL / REINSTALL THE TOOLS NEEDED FOR THE FHIR ASSISTANT\n",
        "##############################################################################\n",
        "!pip install --quiet --no-cache-dir \\\n",
        "    opencv-python-headless==4.12.0.88 \\\n",
        "    thinc==8.3.6 \\\n",
        "    fhir.resources==7.1.0 \\\n",
        "    sentence-transformers==2.7.0 \\\n",
        "    transformers==4.43.2 \\\n",
        "    accelerate==0.30.1 \\\n",
        "    bitsandbytes==0.43.0 \\\n",
        "    langchain==0.2.0 \\\n",
        "    langchain-community==0.2.0\n",
        "\n",
        "##############################################################################\n",
        "# 3.  (RE)INSTALL FAISS **FROM SOURCE** SO IT LINKS AGAINST NUMPY 2\n",
        "#     Compiling takes ~4 minutes on an A100 but guarantees ABI compatibility.\n",
        "##############################################################################\n",
        "!pip install --quiet --no-binary faiss-cpu --no-cache-dir faiss-cpu==1.8.0\n",
        "\n",
        "##############################################################################\n",
        "# 4.  VERIFY THERE IS EXACTLY **ONE** NUMPY IN THE ENVIRONMENT\n",
        "##############################################################################\n",
        "import subprocess, sys, importlib\n",
        "for m in (\"numpy\",\"cv2\",\"thinc\",\"faiss\"):\n",
        "    mod = importlib.import_module(m)\n",
        "    print(f\"{m:5s}\", mod.__version__)\n",
        "subprocess.run([sys.executable,\"-m\",\"pip\",\"check\"], check=False)\n"
      ]
    },
    {
      "cell_type": "code",
      "source": [
        "from google.colab import drive\n",
        "drive.mount('/content/drive')"
      ],
      "metadata": {
        "colab": {
          "base_uri": "https://localhost:8080/"
        },
        "id": "Qe539p_flGea",
        "outputId": "ba8c8f00-2cdd-48a0-d5e1-9b6ee3e70295"
      },
      "execution_count": null,
      "outputs": [
        {
          "output_type": "stream",
          "name": "stdout",
          "text": [
            "Mounted at /content/drive\n"
          ]
        }
      ]
    },
    {
      "cell_type": "code",
      "source": [
        "import json, glob, os, sqlite3, uuid, datetime as dt, re, textwrap\n",
        "from pathlib import Path\n",
        "from typing import List, Dict, Any\n",
        "\n",
        "DATA_DIR   = \"/content/drive/MyDrive/Patient_records/fhir (FHIR R4 Synthea)\"        # point this to **all** your .json bundles\n",
        "SQLITE_DB  = \"/content/structured_fhir.db\"  # lightweight relational store\n",
        "INDEX_DIR  = \"/content/faiss_index\"         # vector store on disk\n",
        "EMB_MODEL  = \"thenlper/gte-large\"           # 430 MB, 1024‑dim embeddings, MIT licence\n",
        "LLM_MODEL  = \"mistralai/Mistral-7B-Instruct-v0.2\"  # Apache‑2.0, fits in 16 GB 4‑bit"
      ],
      "metadata": {
        "id": "I68kcWBPkqy5"
      },
      "execution_count": null,
      "outputs": []
    }
  ]
}