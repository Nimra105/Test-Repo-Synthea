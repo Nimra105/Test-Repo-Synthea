{
  "nbformat": 4,
  "nbformat_minor": 0,
  "metadata": {
    "colab": {
      "provenance": [],
      "machine_shape": "hm",
      "gpuType": "A100",
      "authorship_tag": "ABX9TyNGmUYGrJC0/tbub4xoXdqw"
    },
    "kernelspec": {
      "name": "python3",
      "display_name": "Python 3"
    },
    "language_info": {
      "name": "python"
    },
    "accelerator": "GPU"
  },
  "cells": [
    {
      "cell_type": "code",
      "source": [
        "from google.colab import drive\n",
        "drive.mount(\"/content/drive\", force_remount=True)\n",
        "\n",
        "FHIR_DIR = \"/content/drive/MyDrive/Patient_records/fhir (FHIR R4 Synthea)\"\n",
        "print(\"FHIR bundles will be read from:\", FHIR_DIR)"
      ],
      "metadata": {
        "colab": {
          "base_uri": "https://localhost:8080/"
        },
        "id": "Kw_wFmGQl2xZ",
        "outputId": "e34758f8-5f09-4dac-ecd3-8f5b3c13b039"
      },
      "execution_count": 1,
      "outputs": [
        {
          "output_type": "stream",
          "name": "stdout",
          "text": [
            "Mounted at /content/drive\n",
            "FHIR bundles will be read from: /content/drive/MyDrive/Patient_records/fhir (FHIR R4 Synthea)\n"
          ]
        }
      ]
    },
    {
      "cell_type": "code",
      "source": [
        "%%bash\n",
        "# (re‑)create venv\n",
        "python -m pip install --quiet virtualenv\n",
        "python -m virtualenv /content/fhir_env\n",
        "\n",
        "# activate & upgrade pip\n",
        "source /content/fhir_env/bin/activate\n",
        "pip install --quiet --upgrade pip\n",
        "\n",
        "# core libs (NumPy 2.0, PyTorch 2.3 CUDA 12, etc.)\n",
        "pip install --quiet numpy==2.0.0 \\\n",
        "    --extra-index-url https://download.pytorch.org/whl/cu121 \\\n",
        "    torch==2.3.0 torchvision==0.18.0\n",
        "\n",
        "# helper libs for the clinical assistant\n",
        "pip install --quiet \\\n",
        "    fhir.resources==7.1.0 \\\n",
        "    sentence-transformers==2.7.0 \\\n",
        "    transformers==4.43.2 accelerate==0.30.1 bitsandbytes==0.43.0 \\\n",
        "    langchain==0.2.0 langchain-community==0.2.0"
      ],
      "metadata": {
        "colab": {
          "base_uri": "https://localhost:8080/"
        },
        "id": "qSQqHnrJl2p3",
        "outputId": "059c1306-4114-46e5-e32f-03657d6d21e8"
      },
      "execution_count": 2,
      "outputs": [
        {
          "output_type": "stream",
          "name": "stdout",
          "text": [
            "   ━━━━━━━━━━━━━━━━━━━━━━━━━━━━━━━━━━━━━━━━ 6.1/6.1 MB 58.0 MB/s eta 0:00:00\n",
            "   ━━━━━━━━━━━━━━━━━━━━━━━━━━━━━━━━━━━━━━━━ 469.0/469.0 kB 34.7 MB/s eta 0:00:00\n",
            "created virtual environment CPython3.11.13.final.0-64 in 329ms\n",
            "  creator CPython3Posix(dest=/content/fhir_env, clear=False, no_vcs_ignore=False, global=False)\n",
            "  seeder FromAppData(download=False, pip=bundle, setuptools=bundle, via=copy, app_data_dir=/root/.local/share/virtualenv)\n",
            "    added seed packages: pip==25.1.1, setuptools==80.3.1\n",
            "  activators BashActivator,CShellActivator,FishActivator,NushellActivator,PowerShellActivator,PythonActivator\n",
            "     ━━━━━━━━━━━━━━━━━━━━━━━━━━━━━━━━━━━━━━ 781.0/781.0 MB 34.2 MB/s eta 0:00:00\n",
            "     ━━━━━━━━━━━━━━━━━━━━━━━━━━━━━━━━━━━━━━━━ 7.0/7.0 MB 148.5 MB/s eta 0:00:00\n",
            "     ━━━━━━━━━━━━━━━━━━━━━━━━━━━━━━━━━━━━━━━ 23.7/23.7 MB 185.9 MB/s eta 0:00:00\n",
            "     ━━━━━━━━━━━━━━━━━━━━━━━━━━━━━━━━━━━━━━ 823.6/823.6 kB 39.0 MB/s eta 0:00:00\n",
            "     ━━━━━━━━━━━━━━━━━━━━━━━━━━━━━━━━━━━━━━━ 14.1/14.1 MB 169.9 MB/s eta 0:00:00\n",
            "     ━━━━━━━━━━━━━━━━━━━━━━━━━━━━━━━━━━━━━━ 731.7/731.7 MB 36.2 MB/s eta 0:00:00\n",
            "     ━━━━━━━━━━━━━━━━━━━━━━━━━━━━━━━━━━━━━━ 410.6/410.6 MB 62.6 MB/s eta 0:00:00\n",
            "     ━━━━━━━━━━━━━━━━━━━━━━━━━━━━━━━━━━━━━ 121.6/121.6 MB 143.5 MB/s eta 0:00:00\n",
            "     ━━━━━━━━━━━━━━━━━━━━━━━━━━━━━━━━━━━━━━━ 56.5/56.5 MB 157.6 MB/s eta 0:00:00\n",
            "     ━━━━━━━━━━━━━━━━━━━━━━━━━━━━━━━━━━━━━ 124.2/124.2 MB 146.3 MB/s eta 0:00:00\n",
            "     ━━━━━━━━━━━━━━━━━━━━━━━━━━━━━━━━━━━━━━ 196.0/196.0 MB 80.7 MB/s eta 0:00:00\n",
            "     ━━━━━━━━━━━━━━━━━━━━━━━━━━━━━━━━━━━━━ 176.2/176.2 MB 138.1 MB/s eta 0:00:00\n",
            "     ━━━━━━━━━━━━━━━━━━━━━━━━━━━━━━━━━━━━━━ 168.1/168.1 MB 77.8 MB/s eta 0:00:00\n",
            "     ━━━━━━━━━━━━━━━━━━━━━━━━━━━━━━━━━━━━━━ 536.2/536.2 kB 23.3 MB/s eta 0:00:00\n",
            "   ━━━━━━━━━━━━━━━━━━━━━━━━━━━━━━━━━━━━━━━━ 19.3/19.3 MB 126.5 MB/s eta 0:00:00\n",
            "   ━━━━━━━━━━━━━━━━━━━━━━━━━━━━━━━━━━━━━━━━ 6.6/6.6 MB 126.9 MB/s eta 0:00:00\n",
            "   ━━━━━━━━━━━━━━━━━━━━━━━━━━━━━━━━━━━━━━━━ 2.0/2.0 MB 88.2 MB/s eta 0:00:00\n",
            "   ━━━━━━━━━━━━━━━━━━━━━━━━━━━━━━━━━━━━━━━━ 39.7/39.7 MB 141.0 MB/s eta 0:00:00\n",
            "   ━━━━━━━━━━━━━━━━━━━━━━━━━━━━━━━━━━━━━━━━ 6.3/6.3 MB 126.3 MB/s eta 0:00:00\n",
            "\n",
            "   ━━━━━━━━━━━━━━━━━━━━━━━━━━━━━━━━━━━━━━━━ 3.1/3.1 MB 57.7 MB/s eta 0:00:00\n",
            "   ━━━━━━━━━━━━━━━━━━━━━━━━━━━━━━━━━━━━━━━━ 9.4/9.4 MB 143.8 MB/s eta 0:00:00\n",
            "   ━━━━━━━━━━━━━━━━━━━━━━━━━━━━━━━━━━━━━━━ 102.2/102.2 MB 114.0 MB/s eta 0:00:00\n",
            "   ━━━━━━━━━━━━━━━━━━━━━━━━━━━━━━━━━━━━━━━━ 973.7/973.7 kB 44.5 MB/s eta 0:00:00\n",
            "   ━━━━━━━━━━━━━━━━━━━━━━━━━━━━━━━━━━━━━━━━ 2.1/2.1 MB 76.2 MB/s eta 0:00:00\n",
            "   ━━━━━━━━━━━━━━━━━━━━━━━━━━━━━━━━━━━━━━━━ 1.7/1.7 MB 55.9 MB/s eta 0:00:00\n",
            "   ━━━━━━━━━━━━━━━━━━━━━━━━━━━━━━━━━━━━━━━━ 3.1/3.1 MB 125.1 MB/s eta 0:00:00\n",
            "   ━━━━━━━━━━━━━━━━━━━━━━━━━━━━━━━━━━━━━━━━ 18.3/18.3 MB 165.2 MB/s eta 0:00:00\n",
            "   ━━━━━━━━━━━━━━━━━━━━━━━━━━━━━━━━━━━━━━━━ 2.0/2.0 MB 99.5 MB/s eta 0:00:00\n",
            "   ━━━━━━━━━━━━━━━━━━━━━━━━━━━━━━━━━━━━━━━━ 3.3/3.3 MB 125.7 MB/s eta 0:00:00\n",
            "   ━━━━━━━━━━━━━━━━━━━━━━━━━━━━━━━━━━━━━━━━ 3.6/3.6 MB 91.6 MB/s eta 0:00:00\n",
            "   ━━━━━━━━━━━━━━━━━━━━━━━━━━━━━━━━━━━━━━━━ 585.5/585.5 kB 26.6 MB/s eta 0:00:00\n",
            "   ━━━━━━━━━━━━━━━━━━━━━━━━━━━━━━━━━━━━━━━━ 763.0/763.0 kB 40.7 MB/s eta 0:00:00\n",
            "   ━━━━━━━━━━━━━━━━━━━━━━━━━━━━━━━━━━━━━━━━ 792.7/792.7 kB 42.9 MB/s eta 0:00:00\n",
            "   ━━━━━━━━━━━━━━━━━━━━━━━━━━━━━━━━━━━━━━━━ 12.9/12.9 MB 166.5 MB/s eta 0:00:00\n",
            "   ━━━━━━━━━━━━━━━━━━━━━━━━━━━━━━━━━━━━━━━━ 35.3/35.3 MB 182.2 MB/s eta 0:00:00\n",
            "\n"
          ]
        }
      ]
    },
    {
      "cell_type": "code",
      "source": [
        "%%bash\n",
        "source /content/fhir_env/bin/activate\n",
        "\n",
        "# build prerequisites\n",
        "sudo apt-get update -qq\n",
        "sudo apt-get install -y --no-install-recommends \\\n",
        "     swig python3-dev build-essential cmake git libopenblas-dev libomp-dev\n",
        "\n",
        "# clone & compile Faiss 1.7.4 with CUDA\n",
        "rm -rf faiss\n",
        "git clone --branch v1.7.4 https://github.com/facebookresearch/faiss.git\n",
        "cd faiss\n",
        "cmake -B build -DFAISS_ENABLE_GPU=ON -DFAISS_ENABLE_PYTHON=ON \\\n",
        "               -DFAISS_ENABLE_C_API=OFF -DCMAKE_BUILD_TYPE=Release \\\n",
        "               -DPython_EXECUTABLE=$(which python)\n",
        "cmake --build build --target faiss faiss_avx2 swigfaiss -j $(nproc)\n",
        "\n",
        "# install python bindings from the build tree\n",
        "cd build/faiss/python\n",
        "pip install .   # produces an *empty* faiss package + _swigfaiss.so"
      ],
      "metadata": {
        "id": "gSsP923dl2i2"
      },
      "execution_count": null,
      "outputs": []
    },
    {
      "cell_type": "code",
      "source": [
        "import site, sys, pathlib\n",
        "VENV = \"/content/fhir_env\"\n",
        "sp   = next(pathlib.Path(VENV).rglob(\"site-packages\"))\n",
        "if str(sp) not in sys.path:\n",
        "    sys.path.insert(0, str(sp))\n",
        "print(\"site‑packages added:\", sp)"
      ],
      "metadata": {
        "id": "0wa51342l2cQ"
      },
      "execution_count": null,
      "outputs": []
    },
    {
      "cell_type": "code",
      "source": [
        "import sys, importlib.util, types, pathlib\n",
        "\n",
        "# locate the raw SWIG extension\n",
        "spec = importlib.util.find_spec(\"_swigfaiss\")\n",
        "if spec is None:\n",
        "    candidate = \"/content/faiss/build/faiss/python\"\n",
        "    if candidate not in sys.path:\n",
        "        sys.path.insert(0, candidate)\n",
        "    spec = importlib.util.find_spec(\"_swigfaiss\")\n",
        "if spec is None:\n",
        "    raise ImportError(\"Cannot find _swigfaiss.so – did the build succeed?\")\n",
        "\n",
        "# load extension and create façade\n",
        "_swf  = importlib.import_module(\"_swigfaiss\")\n",
        "faiss = types.ModuleType(\"faiss\")\n",
        "for name in dir(_swf):\n",
        "    if not name.startswith(\"__\"):\n",
        "        setattr(faiss, name, getattr(_swf, name))\n",
        "sys.modules[\"faiss\"] = faiss\n",
        "print(\"Patched faiss facade with\", len(dir(faiss)), \"symbols\")"
      ],
      "metadata": {
        "id": "FH2EPeXBl2W8"
      },
      "execution_count": null,
      "outputs": []
    },
    {
      "cell_type": "code",
      "source": [
        "import faiss, torch, numpy as np\n",
        "d = 32\n",
        "cpu_index = faiss.IndexFlatL2(d)\n",
        "res       = faiss.StandardGpuResources()\n",
        "gpu_index = faiss.index_cpu_to_gpu(res, 0, cpu_index)\n",
        "\n",
        "xb = np.random.randn(10_000, d).astype('float32')\n",
        "gpu_index.add(xb)\n",
        "D, _ = gpu_index.search(xb[:5], 3)\n",
        "print(\"✓ GPU Faiss operational – distances shape:\", D.shape)\n",
        "\n",
        "print(\"CUDA visible to Torch?:\", torch.cuda.is_available(),\n",
        "      \"| device name:\", torch.cuda.get_device_name(0))"
      ],
      "metadata": {
        "id": "FUvQKzdJl2Q5"
      },
      "execution_count": null,
      "outputs": []
    },
    {
      "cell_type": "code",
      "source": [],
      "metadata": {
        "id": "TGz8UIYQl2Kn"
      },
      "execution_count": null,
      "outputs": []
    },
    {
      "cell_type": "code",
      "source": [],
      "metadata": {
        "id": "Pjp3LSIbl2FG"
      },
      "execution_count": null,
      "outputs": []
    },
    {
      "cell_type": "code",
      "source": [],
      "metadata": {
        "id": "yPK9SBvvl1_q"
      },
      "execution_count": null,
      "outputs": []
    },
    {
      "cell_type": "code",
      "source": [
        "#NEW RUN above, ignore everything below!!!"
      ],
      "metadata": {
        "id": "o3nltiRZl1u5"
      },
      "execution_count": null,
      "outputs": []
    },
    {
      "cell_type": "code",
      "source": [
        "%%bash\n",
        "# 0️⃣ Install virtualenv (only ~6 s)\n",
        "python -m pip install --quiet virtualenv\n",
        "\n",
        "# 1️⃣ Create the env — virtualenv bundles its own pip+setuptools, so no ensurepip needed\n",
        "python -m virtualenv /content/fhir_env\n",
        "\n",
        "# 2️⃣ Activate it for this *shell* and upgrade pip\n",
        "source /content/fhir_env/bin/activate\n",
        "pip install --quiet --upgrade pip\n",
        "\n",
        "echo \"✅ Virtualenv ready at /content/fhir_env\""
      ],
      "metadata": {
        "colab": {
          "base_uri": "https://localhost:8080/"
        },
        "id": "KPC-KKdgx706",
        "outputId": "6fa5d4f7-3330-4063-fad3-af38a0d03b90"
      },
      "execution_count": 1,
      "outputs": [
        {
          "output_type": "stream",
          "name": "stdout",
          "text": [
            "   ━━━━━━━━━━━━━━━━━━━━━━━━━━━━━━━━━━━━━━━━ 6.1/6.1 MB 76.8 MB/s eta 0:00:00\n",
            "   ━━━━━━━━━━━━━━━━━━━━━━━━━━━━━━━━━━━━━━━━ 469.0/469.0 kB 33.0 MB/s eta 0:00:00\n",
            "created virtual environment CPython3.11.13.final.0-64 in 327ms\n",
            "  creator CPython3Posix(dest=/content/fhir_env, clear=False, no_vcs_ignore=False, global=False)\n",
            "  seeder FromAppData(download=False, pip=bundle, setuptools=bundle, via=copy, app_data_dir=/root/.local/share/virtualenv)\n",
            "    added seed packages: pip==25.1.1, setuptools==80.3.1\n",
            "  activators BashActivator,CShellActivator,FishActivator,NushellActivator,PowerShellActivator,PythonActivator\n",
            "✅ Virtualenv ready at /content/fhir_env\n"
          ]
        }
      ]
    },
    {
      "cell_type": "code",
      "source": [
        "%%bash\n",
        "source /content/fhir_env/bin/activate\n",
        "\n",
        "# 1️⃣ Core numeric stack\n",
        "pip install --quiet numpy==2.0.0 \\\n",
        "                       --extra-index-url https://download.pytorch.org/whl/cu121 \\\n",
        "                       torch==2.3.0 torchvision==0.18.0\n",
        "\n",
        "# 2️⃣ Clinical‑assistant libraries\n",
        "pip install --quiet faiss-cpu==1.8.0 \\\n",
        "                   fhir.resources==7.1.0 \\\n",
        "                   sentence-transformers==2.7.0 \\\n",
        "                   transformers==4.43.2 \\\n",
        "                   accelerate==0.30.1 \\\n",
        "                   bitsandbytes==0.43.0 \\\n",
        "                   langchain==0.2.0 langchain-community==0.2.0"
      ],
      "metadata": {
        "colab": {
          "base_uri": "https://localhost:8080/"
        },
        "id": "Wui99qYr4hKh",
        "outputId": "9483a4c4-96f2-4f27-c636-956df0760d0e"
      },
      "execution_count": 2,
      "outputs": [
        {
          "output_type": "stream",
          "name": "stdout",
          "text": [
            "     ━━━━━━━━━━━━━━━━━━━━━━━━━━━━━━━━━━━━━━ 781.0/781.0 MB 32.3 MB/s eta 0:00:00\n",
            "     ━━━━━━━━━━━━━━━━━━━━━━━━━━━━━━━━━━━━━━━━ 7.0/7.0 MB 127.8 MB/s eta 0:00:00\n",
            "     ━━━━━━━━━━━━━━━━━━━━━━━━━━━━━━━━━━━━━━━ 23.7/23.7 MB 217.8 MB/s eta 0:00:00\n",
            "     ━━━━━━━━━━━━━━━━━━━━━━━━━━━━━━━━━━━━━━ 823.6/823.6 kB 34.3 MB/s eta 0:00:00\n",
            "     ━━━━━━━━━━━━━━━━━━━━━━━━━━━━━━━━━━━━━━━ 14.1/14.1 MB 172.4 MB/s eta 0:00:00\n",
            "     ━━━━━━━━━━━━━━━━━━━━━━━━━━━━━━━━━━━━━━ 731.7/731.7 MB 35.8 MB/s eta 0:00:00\n",
            "     ━━━━━━━━━━━━━━━━━━━━━━━━━━━━━━━━━━━━━━ 410.6/410.6 MB 51.5 MB/s eta 0:00:00\n",
            "     ━━━━━━━━━━━━━━━━━━━━━━━━━━━━━━━━━━━━━ 121.6/121.6 MB 120.2 MB/s eta 0:00:00\n",
            "     ━━━━━━━━━━━━━━━━━━━━━━━━━━━━━━━━━━━━━━━ 56.5/56.5 MB 178.1 MB/s eta 0:00:00\n",
            "     ━━━━━━━━━━━━━━━━━━━━━━━━━━━━━━━━━━━━━ 124.2/124.2 MB 131.2 MB/s eta 0:00:00\n",
            "     ━━━━━━━━━━━━━━━━━━━━━━━━━━━━━━━━━━━━━━ 196.0/196.0 MB 56.9 MB/s eta 0:00:00\n",
            "     ━━━━━━━━━━━━━━━━━━━━━━━━━━━━━━━━━━━━━ 176.2/176.2 MB 149.7 MB/s eta 0:00:00\n",
            "     ━━━━━━━━━━━━━━━━━━━━━━━━━━━━━━━━━━━━━━ 168.1/168.1 MB 88.7 MB/s eta 0:00:00\n",
            "     ━━━━━━━━━━━━━━━━━━━━━━━━━━━━━━━━━━━━━━ 536.2/536.2 kB 25.0 MB/s eta 0:00:00\n",
            "   ━━━━━━━━━━━━━━━━━━━━━━━━━━━━━━━━━━━━━━━━ 19.3/19.3 MB 117.7 MB/s eta 0:00:00\n",
            "   ━━━━━━━━━━━━━━━━━━━━━━━━━━━━━━━━━━━━━━━━ 6.6/6.6 MB 137.8 MB/s eta 0:00:00\n",
            "   ━━━━━━━━━━━━━━━━━━━━━━━━━━━━━━━━━━━━━━━━ 2.0/2.0 MB 109.8 MB/s eta 0:00:00\n",
            "   ━━━━━━━━━━━━━━━━━━━━━━━━━━━━━━━━━━━━━━━━ 39.7/39.7 MB 69.3 MB/s eta 0:00:00\n",
            "   ━━━━━━━━━━━━━━━━━━━━━━━━━━━━━━━━━━━━━━━━ 6.3/6.3 MB 122.5 MB/s eta 0:00:00\n",
            "\n",
            "   ━━━━━━━━━━━━━━━━━━━━━━━━━━━━━━━━━━━━━━━━ 27.0/27.0 MB 138.9 MB/s eta 0:00:00\n",
            "   ━━━━━━━━━━━━━━━━━━━━━━━━━━━━━━━━━━━━━━━━ 3.1/3.1 MB 95.0 MB/s eta 0:00:00\n",
            "   ━━━━━━━━━━━━━━━━━━━━━━━━━━━━━━━━━━━━━━━━ 9.4/9.4 MB 91.6 MB/s eta 0:00:00\n",
            "   ━━━━━━━━━━━━━━━━━━━━━━━━━━━━━━━━━━━━━━━━ 102.2/102.2 MB 92.8 MB/s eta 0:00:00\n",
            "   ━━━━━━━━━━━━━━━━━━━━━━━━━━━━━━━━━━━━━━━━ 973.7/973.7 kB 44.7 MB/s eta 0:00:00\n",
            "   ━━━━━━━━━━━━━━━━━━━━━━━━━━━━━━━━━━━━━━━━ 2.1/2.1 MB 76.5 MB/s eta 0:00:00\n",
            "   ━━━━━━━━━━━━━━━━━━━━━━━━━━━━━━━━━━━━━━━━ 1.7/1.7 MB 64.5 MB/s eta 0:00:00\n",
            "   ━━━━━━━━━━━━━━━━━━━━━━━━━━━━━━━━━━━━━━━━ 3.1/3.1 MB 114.5 MB/s eta 0:00:00\n",
            "   ━━━━━━━━━━━━━━━━━━━━━━━━━━━━━━━━━━━━━━━━ 18.3/18.3 MB 179.5 MB/s eta 0:00:00\n",
            "   ━━━━━━━━━━━━━━━━━━━━━━━━━━━━━━━━━━━━━━━━ 2.0/2.0 MB 87.3 MB/s eta 0:00:00\n",
            "   ━━━━━━━━━━━━━━━━━━━━━━━━━━━━━━━━━━━━━━━━ 3.3/3.3 MB 108.3 MB/s eta 0:00:00\n",
            "   ━━━━━━━━━━━━━━━━━━━━━━━━━━━━━━━━━━━━━━━━ 3.6/3.6 MB 114.9 MB/s eta 0:00:00\n",
            "   ━━━━━━━━━━━━━━━━━━━━━━━━━━━━━━━━━━━━━━━━ 585.5/585.5 kB 22.1 MB/s eta 0:00:00\n",
            "   ━━━━━━━━━━━━━━━━━━━━━━━━━━━━━━━━━━━━━━━━ 763.0/763.0 kB 39.1 MB/s eta 0:00:00\n",
            "   ━━━━━━━━━━━━━━━━━━━━━━━━━━━━━━━━━━━━━━━━ 792.7/792.7 kB 36.3 MB/s eta 0:00:00\n",
            "   ━━━━━━━━━━━━━━━━━━━━━━━━━━━━━━━━━━━━━━━━ 12.9/12.9 MB 151.9 MB/s eta 0:00:00\n",
            "   ━━━━━━━━━━━━━━━━━━━━━━━━━━━━━━━━━━━━━━━━ 35.3/35.3 MB 162.5 MB/s eta 0:00:00\n",
            "\n"
          ]
        }
      ]
    },
    {
      "cell_type": "code",
      "source": [
        "%%bash\n",
        "source /content/fhir_env/bin/activate\n",
        "\n",
        "# ── 1.  Build prerequisites ────────────────────────────────────────────────\n",
        "sudo apt-get update -qq\n",
        "sudo apt-get install -y swig python3-dev\n",
        "sudo apt-get install -y --no-install-recommends \\\n",
        "     build-essential cmake git libopenblas-dev libomp-dev\n",
        "\n",
        "# ── 2.  Fresh clone of Faiss v1.7.4 ────────────────────────────────────────\n",
        "rm -rf faiss\n",
        "git clone --branch v1.7.4 https://github.com/facebookresearch/faiss.git\n",
        "cd faiss\n",
        "\n",
        "# ── 3.  Configure + compile (GPU build, Python bindings) ───────────────────\n",
        "cmake -B build -DFAISS_ENABLE_GPU=ON \\\n",
        "               -DFAISS_ENABLE_PYTHON=ON \\\n",
        "               -DFAISS_ENABLE_C_API=OFF \\\n",
        "               -DCMAKE_BUILD_TYPE=Release \\\n",
        "               -DPython_EXECUTABLE=$(which python)\n",
        "cmake --build build --target faiss faiss_avx2 swigfaiss -j $(nproc)\n",
        "\n",
        "# ── 4.  Install the bindings directly from the build tree ──────────────────\n",
        "cd build/faiss/python\n",
        "pip install ."
      ],
      "metadata": {
        "id": "EFtnOY5Q7XvT"
      },
      "execution_count": null,
      "outputs": []
    },
    {
      "cell_type": "code",
      "source": [
        "import site, sys, pathlib\n",
        "VENV = \"/content/fhir_env\"\n",
        "site_packages = next(pathlib.Path(VENV).rglob(\"site-packages\"))\n",
        "if str(site_packages) not in sys.path:\n",
        "    sys.path.insert(0, str(site_packages))"
      ],
      "metadata": {
        "id": "8cLU_P6JfUgR"
      },
      "execution_count": null,
      "outputs": []
    },
    {
      "cell_type": "code",
      "source": [
        "import sys, importlib.util, types, pathlib\n",
        "\n",
        "# --- locate the compiled _swigfaiss extension ---------------------------\n",
        "spec = importlib.util.find_spec(\"_swigfaiss\")\n",
        "if spec is None:\n",
        "    candidate = \"/content/faiss/build/faiss/python\"\n",
        "    if candidate not in sys.path:\n",
        "        sys.path.insert(0, candidate)\n",
        "    spec = importlib.util.find_spec(\"_swigfaiss\")\n",
        "if spec is None:\n",
        "    raise ImportError(\"Could not locate _swigfaiss.so; did you build Faiss?\")\n",
        "\n",
        "# --- import it and create a façade called `faiss` -----------------------\n",
        "_swf  = importlib.import_module(\"_swigfaiss\")\n",
        "faiss = types.ModuleType(\"faiss\")\n",
        "for name in dir(_swf):\n",
        "    if not name.startswith(\"__\"):\n",
        "        setattr(faiss, name, getattr(_swf, name))\n",
        "sys.modules[\"faiss\"] = faiss      # so `import faiss` works elsewhere\n",
        "\n",
        "# --- smoke test ---------------------------------------------------------\n",
        "import numpy as np, torch\n",
        "d = 32\n",
        "cpu_index = faiss.IndexFlatL2(d)\n",
        "gpu_res   = faiss.StandardGpuResources()\n",
        "gpu_index = faiss.index_cpu_to_gpu(gpu_res, 0, cpu_index)\n",
        "xb = np.random.randn(10_000, d).astype(\"float32\")\n",
        "gpu_index.add(xb)\n",
        "D, _ = gpu_index.search(xb[:5], 3)\n",
        "print(\"✓ GPU Faiss working – result shape:\", D.shape)"
      ],
      "metadata": {
        "id": "03y7h29hbdnm"
      },
      "execution_count": null,
      "outputs": []
    },
    {
      "cell_type": "code",
      "source": [
        "import faiss, torch, pathlib, numpy\n",
        "\n",
        "faiss_version = getattr(faiss, \"__version__\", \"local‑build\")   # graceful fallback\n",
        "print(\"FAISS :\", faiss_version, \"| GPUs:\", faiss.get_num_gpus())\n",
        "print(\"Path  :\", pathlib.Path(faiss.__file__).parent)\n",
        "print(\"NumPy :\", numpy.__version__)"
      ],
      "metadata": {
        "colab": {
          "base_uri": "https://localhost:8080/",
          "height": 258
        },
        "id": "IQskHAzOCrOT",
        "outputId": "758b7f85-c600-4d3f-b3ea-f9380cfa9424"
      },
      "execution_count": 7,
      "outputs": [
        {
          "output_type": "error",
          "ename": "AttributeError",
          "evalue": "module 'faiss' has no attribute 'get_num_gpus'",
          "traceback": [
            "\u001b[0;31m---------------------------------------------------------------------------\u001b[0m",
            "\u001b[0;31mAttributeError\u001b[0m                            Traceback (most recent call last)",
            "\u001b[0;32m/tmp/ipython-input-7-1954895397.py\u001b[0m in \u001b[0;36m<cell line: 0>\u001b[0;34m()\u001b[0m\n\u001b[1;32m      2\u001b[0m \u001b[0;34m\u001b[0m\u001b[0m\n\u001b[1;32m      3\u001b[0m \u001b[0mfaiss_version\u001b[0m \u001b[0;34m=\u001b[0m \u001b[0mgetattr\u001b[0m\u001b[0;34m(\u001b[0m\u001b[0mfaiss\u001b[0m\u001b[0;34m,\u001b[0m \u001b[0;34m\"__version__\"\u001b[0m\u001b[0;34m,\u001b[0m \u001b[0;34m\"local‑build\"\u001b[0m\u001b[0;34m)\u001b[0m   \u001b[0;31m# graceful fallback\u001b[0m\u001b[0;34m\u001b[0m\u001b[0;34m\u001b[0m\u001b[0m\n\u001b[0;32m----> 4\u001b[0;31m \u001b[0mprint\u001b[0m\u001b[0;34m(\u001b[0m\u001b[0;34m\"FAISS :\"\u001b[0m\u001b[0;34m,\u001b[0m \u001b[0mfaiss_version\u001b[0m\u001b[0;34m,\u001b[0m \u001b[0;34m\"| GPUs:\"\u001b[0m\u001b[0;34m,\u001b[0m \u001b[0mfaiss\u001b[0m\u001b[0;34m.\u001b[0m\u001b[0mget_num_gpus\u001b[0m\u001b[0;34m(\u001b[0m\u001b[0;34m)\u001b[0m\u001b[0;34m)\u001b[0m\u001b[0;34m\u001b[0m\u001b[0;34m\u001b[0m\u001b[0m\n\u001b[0m\u001b[1;32m      5\u001b[0m \u001b[0mprint\u001b[0m\u001b[0;34m(\u001b[0m\u001b[0;34m\"Path  :\"\u001b[0m\u001b[0;34m,\u001b[0m \u001b[0mpathlib\u001b[0m\u001b[0;34m.\u001b[0m\u001b[0mPath\u001b[0m\u001b[0;34m(\u001b[0m\u001b[0mfaiss\u001b[0m\u001b[0;34m.\u001b[0m\u001b[0m__file__\u001b[0m\u001b[0;34m)\u001b[0m\u001b[0;34m.\u001b[0m\u001b[0mparent\u001b[0m\u001b[0;34m)\u001b[0m\u001b[0;34m\u001b[0m\u001b[0;34m\u001b[0m\u001b[0m\n\u001b[1;32m      6\u001b[0m \u001b[0mprint\u001b[0m\u001b[0;34m(\u001b[0m\u001b[0;34m\"NumPy :\"\u001b[0m\u001b[0;34m,\u001b[0m \u001b[0mnumpy\u001b[0m\u001b[0;34m.\u001b[0m\u001b[0m__version__\u001b[0m\u001b[0;34m)\u001b[0m\u001b[0;34m\u001b[0m\u001b[0;34m\u001b[0m\u001b[0m\n",
            "\u001b[0;31mAttributeError\u001b[0m: module 'faiss' has no attribute 'get_num_gpus'"
          ]
        }
      ]
    },
    {
      "cell_type": "code",
      "source": [
        "import faiss, torch, numpy as np\n",
        "\n",
        "print(\"PyTorch sees CUDA:\", torch.cuda.is_available(), \"GPUs:\", torch.cuda.device_count())\n",
        "\n",
        "# Create a small index on the CPU…\n",
        "d = 64\n",
        "cpu_index = faiss.IndexFlatL2(d)   # exact L2 search\n",
        "\n",
        "# Move it to GPU 0\n",
        "# StandardGpuResources always exists when FAISS_ENABLE_GPU=ON\n",
        "gpu_res = faiss.StandardGpuResources()\n",
        "gpu_index = faiss.index_cpu_to_gpu(gpu_res, 0, cpu_index)\n",
        "\n",
        "# Add some random vectors and run a query\n",
        "xb = np.random.random((1000, d)).astype('float32')\n",
        "xq = np.random.random((5, d)).astype('float32')\n",
        "\n",
        "gpu_index.add(xb)\n",
        "D, I = gpu_index.search(xq, k=3)\n",
        "\n",
        "print(\"GPU search results shape:\", D.shape)  # should be (5, 3)\n",
        "print(\"First row distances:\", D[0])"
      ],
      "metadata": {
        "colab": {
          "base_uri": "https://localhost:8080/",
          "height": 280
        },
        "id": "fwy7Y8JCagM8",
        "outputId": "169e3bd3-a53a-4f26-ab66-47fd26de03df"
      },
      "execution_count": 8,
      "outputs": [
        {
          "output_type": "stream",
          "name": "stdout",
          "text": [
            "PyTorch sees CUDA: True GPUs: 1\n"
          ]
        },
        {
          "output_type": "error",
          "ename": "AttributeError",
          "evalue": "module 'faiss' has no attribute 'IndexFlatL2'",
          "traceback": [
            "\u001b[0;31m---------------------------------------------------------------------------\u001b[0m",
            "\u001b[0;31mAttributeError\u001b[0m                            Traceback (most recent call last)",
            "\u001b[0;32m/tmp/ipython-input-8-2395763995.py\u001b[0m in \u001b[0;36m<cell line: 0>\u001b[0;34m()\u001b[0m\n\u001b[1;32m      5\u001b[0m \u001b[0;31m# Create a small index on the CPU…\u001b[0m\u001b[0;34m\u001b[0m\u001b[0;34m\u001b[0m\u001b[0m\n\u001b[1;32m      6\u001b[0m \u001b[0md\u001b[0m \u001b[0;34m=\u001b[0m \u001b[0;36m64\u001b[0m\u001b[0;34m\u001b[0m\u001b[0;34m\u001b[0m\u001b[0m\n\u001b[0;32m----> 7\u001b[0;31m \u001b[0mcpu_index\u001b[0m \u001b[0;34m=\u001b[0m \u001b[0mfaiss\u001b[0m\u001b[0;34m.\u001b[0m\u001b[0mIndexFlatL2\u001b[0m\u001b[0;34m(\u001b[0m\u001b[0md\u001b[0m\u001b[0;34m)\u001b[0m   \u001b[0;31m# exact L2 search\u001b[0m\u001b[0;34m\u001b[0m\u001b[0;34m\u001b[0m\u001b[0m\n\u001b[0m\u001b[1;32m      8\u001b[0m \u001b[0;34m\u001b[0m\u001b[0m\n\u001b[1;32m      9\u001b[0m \u001b[0;31m# Move it to GPU 0\u001b[0m\u001b[0;34m\u001b[0m\u001b[0;34m\u001b[0m\u001b[0m\n",
            "\u001b[0;31mAttributeError\u001b[0m: module 'faiss' has no attribute 'IndexFlatL2'"
          ]
        }
      ]
    },
    {
      "cell_type": "code",
      "source": [
        "import faiss\n",
        "print(dir(faiss))"
      ],
      "metadata": {
        "colab": {
          "base_uri": "https://localhost:8080/"
        },
        "id": "3aFKWFUlaum1",
        "outputId": "5675f5e2-5fc9-4fc3-c775-80756229d93d"
      },
      "execution_count": 9,
      "outputs": [
        {
          "output_type": "stream",
          "name": "stdout",
          "text": [
            "['__doc__', '__file__', '__loader__', '__name__', '__package__', '__path__', '__spec__']\n"
          ]
        }
      ]
    },
    {
      "cell_type": "code",
      "source": [
        "import site, sys, pathlib, importlib\n",
        "VENV = \"/content/fhir_env\"\n",
        "site_packages = next(pathlib.Path(VENV).rglob(\"site-packages\"))\n",
        "if str(site_packages) not in sys.path:\n",
        "    sys.path.insert(0, str(site_packages))\n",
        "\n",
        "# quick sanity‑check\n",
        "import numpy, torch, faiss, transformers\n",
        "print(\"NumPy :\", numpy.__version__)\n",
        "print(\"Torch :\", torch.__version__)\n",
        "print(\"FAISS :\", faiss.__version__)\n",
        "print(\"tfms  :\", transformers.__version__)"
      ],
      "metadata": {
        "id": "fZ5lf1wb4mc9"
      },
      "execution_count": null,
      "outputs": []
    },
    {
      "cell_type": "code",
      "execution_count": null,
      "metadata": {
        "colab": {
          "base_uri": "https://localhost:8080/",
          "height": 1000
        },
        "id": "9P8s6_TLjyY5",
        "outputId": "1776a082-adfa-40e1-fe03-a464446eb5a9"
      },
      "outputs": [
        {
          "output_type": "stream",
          "name": "stdout",
          "text": [
            "\u001b[33mWARNING: Skipping faiss-cpu as it is not installed.\u001b[0m\u001b[33m\n",
            "\u001b[2K     \u001b[90m━━━━━━━━━━━━━━━━━━━━━━━━━━━━━━━━━━━━━━━\u001b[0m \u001b[32m60.9/60.9 kB\u001b[0m \u001b[31m146.5 MB/s\u001b[0m eta \u001b[36m0:00:00\u001b[0m\n",
            "\u001b[2K   \u001b[90m━━━━━━━━━━━━━━━━━━━━━━━━━━━━━━━━━━━━━━━━\u001b[0m \u001b[32m19.3/19.3 MB\u001b[0m \u001b[31m311.3 MB/s\u001b[0m eta \u001b[36m0:00:00\u001b[0m\n",
            "\u001b[?25h\u001b[31mERROR: pip's dependency resolver does not currently take into account all the packages that are installed. This behaviour is the source of the following dependency conflicts.\n",
            "shap 0.48.0 requires numba>=0.54, which is not installed.\n",
            "tensorflow-decision-forests 1.11.0 requires tensorflow==2.18.0, which is not installed.\n",
            "pynndescent 0.5.13 requires numba>=0.51.2, which is not installed.\n",
            "umap-learn 0.5.9.post2 requires numba>=0.51.2, which is not installed.\n",
            "cudf-cu12 25.2.1 requires numba<0.61.0a0,>=0.59.1, which is not installed.\n",
            "stumpy 1.13.0 requires numba>=0.57.1, which is not installed.\n",
            "librosa 0.11.0 requires numba>=0.51.0, which is not installed.\n",
            "cuml-cu12 25.2.1 requires numba<0.61.0a0,>=0.59.1, which is not installed.\n",
            "spacy 3.8.7 requires thinc<8.4.0,>=8.3.4, which is not installed.\n",
            "dask-cuda 25.2.0 requires numba<0.61.0a0,>=0.59.1, which is not installed.\n",
            "dopamine-rl 4.1.2 requires tensorflow>=2.2.0, which is not installed.\n",
            "albucore 0.0.24 requires opencv-python-headless>=4.9.0.80, which is not installed.\n",
            "albumentations 2.0.8 requires opencv-python-headless>=4.9.0.80, which is not installed.\u001b[0m\u001b[31m\n",
            "\u001b[2K   \u001b[90m━━━━━━━━━━━━━━━━━━━━━━━━━━━━━━━━━━━━━━━━\u001b[0m \u001b[32m3.7/3.7 MB\u001b[0m \u001b[31m194.4 MB/s\u001b[0m eta \u001b[36m0:00:00\u001b[0m\n",
            "\u001b[2K   \u001b[90m━━━━━━━━━━━━━━━━━━━━━━━━━━━━━━━━━━━━━━━\u001b[0m \u001b[32m615.4/615.4 MB\u001b[0m \u001b[31m157.2 MB/s\u001b[0m eta \u001b[36m0:00:00\u001b[0m\n",
            "\u001b[2K     \u001b[90m━━━━━━━━━━━━━━━━━━━━━━━━━━━━━━━━━━━━━━━\u001b[0m \u001b[32m45.3/45.3 kB\u001b[0m \u001b[31m184.7 MB/s\u001b[0m eta \u001b[36m0:00:00\u001b[0m\n",
            "\u001b[2K     \u001b[90m━━━━━━━━━━━━━━━━━━━━━━━━━━━━━━━━━━━━━━━\u001b[0m \u001b[32m43.7/43.7 kB\u001b[0m \u001b[31m230.5 MB/s\u001b[0m eta \u001b[36m0:00:00\u001b[0m\n",
            "\u001b[?25h\u001b[31mERROR: Cannot install accelerate==0.30.1, bitsandbytes==0.43.0, langchain==0.2.0, opencv-python-headless==4.12.0.88, sentence-transformers==2.7.0, thinc==8.3.6 and transformers==4.43.2 because these package versions have conflicting dependencies.\u001b[0m\u001b[31m\n",
            "\u001b[0m\u001b[31mERROR: ResolutionImpossible: for help visit https://pip.pypa.io/en/latest/topics/dependency-resolution/#dealing-with-dependency-conflicts\u001b[0m\u001b[31m\n",
            "\u001b[2K     \u001b[90m━━━━━━━━━━━━━━━━━━━━━━━━━━━━━━━━━━━━━━━\u001b[0m \u001b[32m63.6/63.6 kB\u001b[0m \u001b[31m137.0 MB/s\u001b[0m eta \u001b[36m0:00:00\u001b[0m\n",
            "\u001b[?25h  Installing build dependencies ... \u001b[?25l\u001b[?25hdone\n",
            "  Getting requirements to build wheel ... \u001b[?25l\u001b[?25hdone\n",
            "  Preparing metadata (pyproject.toml) ... \u001b[?25l\u001b[?25hdone\n",
            "  \u001b[1;31merror\u001b[0m: \u001b[1msubprocess-exited-with-error\u001b[0m\n",
            "  \n",
            "  \u001b[31m×\u001b[0m \u001b[32mBuilding wheel for faiss-cpu \u001b[0m\u001b[1;32m(\u001b[0m\u001b[32mpyproject.toml\u001b[0m\u001b[1;32m)\u001b[0m did not run successfully.\n",
            "  \u001b[31m│\u001b[0m exit code: \u001b[1;36m1\u001b[0m\n",
            "  \u001b[31m╰─>\u001b[0m See above for output.\n",
            "  \n",
            "  \u001b[1;35mnote\u001b[0m: This error originates from a subprocess, and is likely not a problem with pip.\n",
            "  Building wheel for faiss-cpu (pyproject.toml) ... \u001b[?25l\u001b[?25herror\n",
            "\u001b[31m  ERROR: Failed building wheel for faiss-cpu\u001b[0m\u001b[31m\n",
            "\u001b[0m\u001b[31mERROR: ERROR: Failed to build installable wheels for some pyproject.toml based projects (faiss-cpu)\u001b[0m\u001b[31m\n",
            "\u001b[0mnumpy 2.0.2\n"
          ]
        },
        {
          "output_type": "error",
          "ename": "AttributeError",
          "evalue": "module 'cv2' has no attribute '__version__'",
          "traceback": [
            "\u001b[0;31m---------------------------------------------------------------------------\u001b[0m",
            "\u001b[0;31mAttributeError\u001b[0m                            Traceback (most recent call last)",
            "\u001b[0;32m/tmp/ipython-input-2-1365307328.py\u001b[0m in \u001b[0;36m<cell line: 0>\u001b[0;34m()\u001b[0m\n\u001b[1;32m     37\u001b[0m \u001b[0;32mfor\u001b[0m \u001b[0mm\u001b[0m \u001b[0;32min\u001b[0m \u001b[0;34m(\u001b[0m\u001b[0;34m\"numpy\"\u001b[0m\u001b[0;34m,\u001b[0m\u001b[0;34m\"cv2\"\u001b[0m\u001b[0;34m,\u001b[0m\u001b[0;34m\"thinc\"\u001b[0m\u001b[0;34m,\u001b[0m\u001b[0;34m\"faiss\"\u001b[0m\u001b[0;34m)\u001b[0m\u001b[0;34m:\u001b[0m\u001b[0;34m\u001b[0m\u001b[0;34m\u001b[0m\u001b[0m\n\u001b[1;32m     38\u001b[0m     \u001b[0mmod\u001b[0m \u001b[0;34m=\u001b[0m \u001b[0mimportlib\u001b[0m\u001b[0;34m.\u001b[0m\u001b[0mimport_module\u001b[0m\u001b[0;34m(\u001b[0m\u001b[0mm\u001b[0m\u001b[0;34m)\u001b[0m\u001b[0;34m\u001b[0m\u001b[0;34m\u001b[0m\u001b[0m\n\u001b[0;32m---> 39\u001b[0;31m     \u001b[0mprint\u001b[0m\u001b[0;34m(\u001b[0m\u001b[0;34mf\"{m:5s}\"\u001b[0m\u001b[0;34m,\u001b[0m \u001b[0mmod\u001b[0m\u001b[0;34m.\u001b[0m\u001b[0m__version__\u001b[0m\u001b[0;34m)\u001b[0m\u001b[0;34m\u001b[0m\u001b[0;34m\u001b[0m\u001b[0m\n\u001b[0m\u001b[1;32m     40\u001b[0m \u001b[0msubprocess\u001b[0m\u001b[0;34m.\u001b[0m\u001b[0mrun\u001b[0m\u001b[0;34m(\u001b[0m\u001b[0;34m[\u001b[0m\u001b[0msys\u001b[0m\u001b[0;34m.\u001b[0m\u001b[0mexecutable\u001b[0m\u001b[0;34m,\u001b[0m\u001b[0;34m\"-m\"\u001b[0m\u001b[0;34m,\u001b[0m\u001b[0;34m\"pip\"\u001b[0m\u001b[0;34m,\u001b[0m\u001b[0;34m\"check\"\u001b[0m\u001b[0;34m]\u001b[0m\u001b[0;34m,\u001b[0m \u001b[0mcheck\u001b[0m\u001b[0;34m=\u001b[0m\u001b[0;32mFalse\u001b[0m\u001b[0;34m)\u001b[0m\u001b[0;34m\u001b[0m\u001b[0;34m\u001b[0m\u001b[0m\n",
            "\u001b[0;31mAttributeError\u001b[0m: module 'cv2' has no attribute '__version__'"
          ]
        }
      ],
      "source": [
        "##############################################################################\n",
        "# 0.  SCRUB THE OLD ENVIRONMENT COMPLETELY\n",
        "##############################################################################\n",
        "!pip uninstall -y -q numpy opencv-python-headless thinc numba tensorflow faiss-cpu || true\n",
        "\n",
        "##############################################################################\n",
        "# 1.  INSTALL A SINGLE, COMPATIBLE NUMPY WHEEL\n",
        "#     NumPy 2.0.x is               >=2  and <2.1   → ok for:\n",
        "#       • opencv‑python‑headless (>=2,<3)\n",
        "#       • thinc (>=2,<3)\n",
        "#       • tensorflow 2.18 (>=1.26,<2.1)\n",
        "#       • numba 0.60      (>=1.22,<2.1)\n",
        "##############################################################################\n",
        "!pip install --quiet --no-cache-dir \"numpy==2.0.0\"\n",
        "\n",
        "##############################################################################\n",
        "# 2A. OPTIONAL: KEEP TensorFlow & Numba (if you really need them later)\n",
        "# Comment‑out the next two lines if you don’t need either package.\n",
        "##############################################################################\n",
        "!pip install --quiet --no-cache-dir numba==0.60.0 tensorflow==2.18.0\n",
        "\n",
        "##############################################################################\n",
        "# 2B.  INSTALL / REINSTALL THE TOOLS NEEDED FOR THE FHIR ASSISTANT\n",
        "##############################################################################\n",
        "!pip install --quiet --no-cache-dir \\\n",
        "    opencv-python-headless==4.12.0.88 \\\n",
        "    thinc==8.3.6 \\\n",
        "    fhir.resources==7.1.0 \\\n",
        "    sentence-transformers==2.7.0 \\\n",
        "    transformers==4.43.2 \\\n",
        "    accelerate==0.30.1 \\\n",
        "    bitsandbytes==0.43.0 \\\n",
        "    langchain==0.2.0 \\\n",
        "    langchain-community==0.2.0\n",
        "\n",
        "##############################################################################\n",
        "# 3.  (RE)INSTALL FAISS **FROM SOURCE** SO IT LINKS AGAINST NUMPY 2\n",
        "#     Compiling takes ~4 minutes on an A100 but guarantees ABI compatibility.\n",
        "##############################################################################\n",
        "!pip install --quiet --no-binary faiss-cpu --no-cache-dir faiss-cpu==1.8.0\n",
        "\n",
        "##############################################################################\n",
        "# 4.  VERIFY THERE IS EXACTLY **ONE** NUMPY IN THE ENVIRONMENT\n",
        "##############################################################################\n",
        "import subprocess, sys, importlib\n",
        "for m in (\"numpy\",\"cv2\",\"thinc\",\"faiss\"):\n",
        "    mod = importlib.import_module(m)\n",
        "    print(f\"{m:5s}\", mod.__version__)\n",
        "subprocess.run([sys.executable,\"-m\",\"pip\",\"check\"], check=False)\n"
      ]
    },
    {
      "cell_type": "code",
      "source": [
        "from google.colab import drive\n",
        "drive.mount('/content/drive')"
      ],
      "metadata": {
        "colab": {
          "base_uri": "https://localhost:8080/"
        },
        "id": "Qe539p_flGea",
        "outputId": "ba8c8f00-2cdd-48a0-d5e1-9b6ee3e70295"
      },
      "execution_count": null,
      "outputs": [
        {
          "output_type": "stream",
          "name": "stdout",
          "text": [
            "Mounted at /content/drive\n"
          ]
        }
      ]
    },
    {
      "cell_type": "code",
      "source": [
        "import json, glob, os, sqlite3, uuid, datetime as dt, re, textwrap\n",
        "from pathlib import Path\n",
        "from typing import List, Dict, Any\n",
        "\n",
        "DATA_DIR   = \"/content/drive/MyDrive/Patient_records/fhir (FHIR R4 Synthea)\"        # point this to **all** your .json bundles\n",
        "SQLITE_DB  = \"/content/structured_fhir.db\"  # lightweight relational store\n",
        "INDEX_DIR  = \"/content/faiss_index\"         # vector store on disk\n",
        "EMB_MODEL  = \"thenlper/gte-large\"           # 430 MB, 1024‑dim embeddings, MIT licence\n",
        "LLM_MODEL  = \"mistralai/Mistral-7B-Instruct-v0.2\"  # Apache‑2.0, fits in 16 GB 4‑bit"
      ],
      "metadata": {
        "id": "I68kcWBPkqy5"
      },
      "execution_count": null,
      "outputs": []
    }
  ]
}